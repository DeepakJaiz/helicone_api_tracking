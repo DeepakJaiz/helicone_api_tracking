{
 "cells": [
  {
   "cell_type": "code",
   "execution_count": 18,
   "id": "300adfa1",
   "metadata": {},
   "outputs": [
    {
     "name": "stderr",
     "output_type": "stream",
     "text": [
      "WARNING! headers is not default parameter.\n",
      "                    headers was transferred to model_kwargs.\n",
      "                    Please confirm that headers is what you intended.\n"
     ]
    },
    {
     "name": "stdout",
     "output_type": "stream",
     "text": [
      "\n",
      "\n",
      "Socktastic Rainbow Co.\n",
      "Tokens Used: 24\n",
      "\tPrompt Tokens: 15\n",
      "\tCompletion Tokens: 9\n",
      "Successful Requests: 1\n",
      "Total Cost (USD): $0.00047999999999999996\n"
     ]
    }
   ],
   "source": [
    "import openai\n",
    "from langchain.llms import OpenAI\n",
    "import os\n",
    "from langchain.callbacks import get_openai_callback\n",
    "\n",
    "os.environ[\"OPENAI_API_KEY\"] = \"openai api key\"\n",
    "openai.api_base = \"https://oai.hconeai.com/v1\"\n",
    "  \n",
    "llm = OpenAI(\n",
    "    temperature=0.9,\n",
    "    headers={\n",
    "      \"Helicone-Auth\": \"Bearer helicone api key\",\n",
    "        \"Helicone-User-Id\": \"deepak.jaiswal@gmail.com\"\n",
    "    }\n",
    "  )\n",
    "with get_openai_callback() as cb:\n",
    "    response = llm.predict(\"What would be a good company name for a company that makes colorful socks?\")\n",
    "    print(response)\n",
    "    print(cb)\n",
    "\n",
    "\n"
   ]
  },
  {
   "cell_type": "code",
   "execution_count": 13,
   "id": "05a37294",
   "metadata": {},
   "outputs": [
    {
     "name": "stdout",
     "output_type": "stream",
     "text": [
      "{'name': 'Devendre', 'email': 'devendra.choukiker@madgicaltec', 'user_id': 123456789}\n"
     ]
    }
   ],
   "source": [
    "def add_user_id(data):\n",
    "    \"\"\"Adds a user ID to the data dictionary.\n",
    "\n",
    "    Args:\n",
    "    data: The data dictionary.\n",
    "\n",
    "    Returns:\n",
    "    The data dictionary with the user ID added.\n",
    "    \"\"\"\n",
    "\n",
    "    user_id = 123456789\n",
    "    data[\"user_id\"] = user_id\n",
    "    return data\n",
    "\n",
    "\n",
    "if __name__ == \"__main__\":\n",
    "    data = {\"name\": \"Devendre\", \"email\": \"devendra.choukiker@madgicaltec\"}\n",
    "    new_data = add_user_id(data)\n",
    "    print(new_data)\n"
   ]
  },
  {
   "cell_type": "code",
   "execution_count": null,
   "id": "ca1cd920",
   "metadata": {},
   "outputs": [],
   "source": []
  }
 ],
 "metadata": {
  "kernelspec": {
   "display_name": "Python 3 (ipykernel)",
   "language": "python",
   "name": "python3"
  },
  "language_info": {
   "codemirror_mode": {
    "name": "ipython",
    "version": 3
   },
   "file_extension": ".py",
   "mimetype": "text/x-python",
   "name": "python",
   "nbconvert_exporter": "python",
   "pygments_lexer": "ipython3",
   "version": "3.10.9"
  }
 },
 "nbformat": 4,
 "nbformat_minor": 5
}
